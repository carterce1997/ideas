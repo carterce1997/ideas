{
 "cells": [
  {
   "cell_type": "code",
   "execution_count": 1,
   "metadata": {},
   "outputs": [],
   "source": [
    "import numpy as np\n",
    "import matplotlib.pyplot as plt"
   ]
  },
  {
   "cell_type": "markdown",
   "metadata": {},
   "source": [
    "## Dirichlet Process Prior"
   ]
  },
  {
   "cell_type": "code",
   "execution_count": null,
   "metadata": {},
   "outputs": [],
   "source": [
    "def stick_breaking_process(alpha, n):\n",
    "    beta = np.random.beta(1, alpha, size = n)\n",
    "\n",
    "    pi = [beta[0]]\n",
    "    pi.extend([beta[k] * np.product(1 - beta[:k]) for k in range(1, n)])\n",
    "\n",
    "    return pi\n",
    "\n",
    "def dp(h, alpha, size=None):\n",
    "    loc = h(size=size)\n",
    "    \n",
    "    beta = np.random.beta(1, alpha, size)\n",
    "    \n",
    "    pi = [beta[0]]\n",
    "    pi.extend([beta[k] * np.product(1 - beta[:k]) for k in range(1, size)])\n",
    "\n",
    "    return loc, pi\n",
    "    "
   ]
  }
 ],
 "metadata": {
  "kernelspec": {
   "display_name": "Python 3",
   "language": "python",
   "name": "python3"
  },
  "language_info": {
   "codemirror_mode": {
    "name": "ipython",
    "version": 3
   },
   "file_extension": ".py",
   "mimetype": "text/x-python",
   "name": "python",
   "nbconvert_exporter": "python",
   "pygments_lexer": "ipython3",
   "version": "3.7.5"
  }
 },
 "nbformat": 4,
 "nbformat_minor": 2
}
