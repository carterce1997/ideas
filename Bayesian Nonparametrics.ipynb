{
 "cells": [
  {
   "cell_type": "code",
   "execution_count": 1,
   "metadata": {},
   "outputs": [],
   "source": [
    "import numpy as np\n",
    "import matplotlib.pyplot as plt"
   ]
  },
  {
   "cell_type": "markdown",
   "metadata": {},
   "source": [
    "## Dirichlet Process Prior"
   ]
  },
  {
   "cell_type": "code",
   "execution_count": 2,
   "metadata": {},
   "outputs": [],
   "source": [
    "def dp(h, alpha, size=None, n=100):\n",
    "    \n",
    "    x = [h() for i in range(n)]\n",
    "        \n",
    "    beta = np.random.beta(1, alpha, n)\n",
    "    \n",
    "    pi = [beta[0]]\n",
    "    pi.extend([beta[k] * np.product(1 - beta[:k]) for k in range(1, n)])\n",
    "\n",
    "    return x, pi\n",
    "    "
   ]
  },
  {
   "cell_type": "code",
   "execution_count": 4,
   "metadata": {},
   "outputs": [
    {
     "data": {
      "image/png": "[encoded data removed]",
      "text/plain": [
       "<Figure size 648x216 with 3 Axes>"
      ]
     },
     "metadata": {
      "needs_background": "light"
     },
     "output_type": "display_data"
    }
   ],
   "source": [
    "def h():\n",
    "    return np.random.normal(0, 1)\n",
    "\n",
    "fig, ax = plt.subplots(1, 3, sharey=True, sharex=True, figsize=(9,3))\n",
    "\n",
    "for i, alpha in enumerate([1, 5, 20]):\n",
    "    x, pi = dp(h, alpha, None)\n",
    "    \n",
    "    ax[i].stem(x, pi)\n",
    "    ax[i].set_title(f'alpha = {alpha}')\n",
    "\n",
    "plt.show()"
   ]
  },
  {
   "cell_type": "markdown",
   "metadata": {},
   "source": [
    "## Gaussian Process"
   ]
  },
  {
   "cell_type": "code",
   "execution_count": null,
   "metadata": {},
   "outputs": [],
   "source": []
  }
 ],
 "metadata": {
  "kernelspec": {
   "display_name": "Python 3",
   "language": "python",
   "name": "python3"
  },
  "language_info": {
   "codemirror_mode": {
    "name": "ipython",
    "version": 3
   },
   "file_extension": ".py",
   "mimetype": "text/x-python",
   "name": "python",
   "nbconvert_exporter": "python",
   "pygments_lexer": "ipython3",
   "version": "3.7.5"
  }
 },
 "nbformat": 4,
 "nbformat_minor": 2
}
